{
  "nbformat": 4,
  "nbformat_minor": 0,
  "metadata": {
    "colab": {
      "provenance": [],
      "include_colab_link": true
    },
    "kernelspec": {
      "name": "python3",
      "display_name": "Python 3"
    },
    "language_info": {
      "name": "python"
    }
  },
  "cells": [
    {
      "cell_type": "markdown",
      "metadata": {
        "id": "view-in-github",
        "colab_type": "text"
      },
      "source": [
        "<a href=\"https://colab.research.google.com/github/dextersparow/pnt_aula_6/blob/main/Atividade_Clovis_final.ipynb\" target=\"_parent\"><img src=\"https://colab.research.google.com/assets/colab-badge.svg\" alt=\"Open In Colab\"/></a>"
      ]
    },
    {
      "cell_type": "code",
      "execution_count": null,
      "metadata": {
        "colab": {
          "base_uri": "https://localhost:8080/"
        },
        "id": "wRlbO3IJrswI",
        "outputId": "44706ca5-1540-434b-f9de-9be599035656"
      },
      "outputs": [
        {
          "output_type": "stream",
          "name": "stdout",
          "text": [
            "Olá ETE CÍCERO DIAS!\n"
          ]
        }
      ],
      "source": [
        "# ETE CÍCERO DIAS\n",
        "# DOCENTE: CLOVES ROCHA\n",
        "# ESTUDANTE: RAMON DE DEUS\n",
        "# PNT - TIPOS PRIMITIVOS DE DADOS\n",
        "#print('Olá mundo!')\n",
        "\n",
        "#1. Faça um CÓDIGO que mostre a mensagem \"Olá ETE CÍCERO DIAS!\" na tela.\n",
        "\n",
        "x = \"Olá ETE CÍCERO DIAS!\"\n",
        "print(x)\n"
      ]
    },
    {
      "cell_type": "code",
      "source": [
        "#2. Faça um CÓDIGO que peça um número e então mostre a mensagem O número informado foi [número].\n",
        "\n",
        "num = input(\"Informe um número: \")\n",
        "print(num)"
      ],
      "metadata": {
        "colab": {
          "base_uri": "https://localhost:8080/"
        },
        "id": "tEe81ubvtjVw",
        "outputId": "fddc4afb-0b54-4d8a-861d-1c42c458047e"
      },
      "execution_count": null,
      "outputs": [
        {
          "output_type": "stream",
          "name": "stdout",
          "text": [
            "Informe um número: 5\n",
            "5\n"
          ]
        }
      ]
    },
    {
      "cell_type": "code",
      "source": [
        "#3. Faça um CÓDIGO que peça dois números e imprima a soma.\n",
        "\n",
        "num1 = float(input(\"Informe um número: \"))\n",
        "num2 = float(input(\"Informe um número: \"))\n",
        "\n",
        "soma = num1 + num2\n",
        "\n",
        "print(soma)"
      ],
      "metadata": {
        "colab": {
          "base_uri": "https://localhost:8080/"
        },
        "id": "lOwKaYOcwGZo",
        "outputId": "335ebf2d-d4e2-4fcd-ff0c-8ecf568cc3b5"
      },
      "execution_count": null,
      "outputs": [
        {
          "output_type": "stream",
          "name": "stdout",
          "text": [
            "Informe um número: 5\n",
            "Informe um número: 5\n",
            "10.0\n"
          ]
        }
      ]
    },
    {
      "cell_type": "code",
      "source": [
        "#4. Faça um CÓDIGO que peça as 4 notas bimestrais e mostre a média final.\n",
        "\n",
        "num1 = float(input(\"Informe a sua 1ª nota: \"))\n",
        "num2 = float(input(\"Informe a sua 2ª nota: \"))\n",
        "num3 = float(input(\"Informe a sua 3ª nota: \"))\n",
        "num4 = float(input(\"Informe a sua 4ª nota: \"))\n",
        "\n",
        "media = (num1 + num2 + num3 + num4)/4\n",
        "\n",
        "print(\"sua média foi\", media)"
      ],
      "metadata": {
        "colab": {
          "base_uri": "https://localhost:8080/"
        },
        "id": "J3AO2J2cxXmd",
        "outputId": "16630182-15d9-4251-e546-6acb4ddd4a83"
      },
      "execution_count": null,
      "outputs": [
        {
          "output_type": "stream",
          "name": "stdout",
          "text": [
            "Informe a sua 1ª nota: 5\n",
            "Informe a sua 2ª nota: 5\n",
            "Informe a sua 3ª nota: 6\n",
            "Informe a sua 4ª nota: 6\n",
            "sua média foi 5.5\n"
          ]
        }
      ]
    },
    {
      "cell_type": "code",
      "source": [
        "#5. Faça um CÓDIGO que converta metros para centímetros.\n",
        "\n",
        "metros = float(input(\"Informe a distância em metros: \"))\n",
        "\n",
        "cent = metros * 100\n",
        "\n",
        "print(cent)"
      ],
      "metadata": {
        "colab": {
          "base_uri": "https://localhost:8080/"
        },
        "id": "5dNKtB92zZHA",
        "outputId": "0c524ee1-0d9d-42e0-ff2d-3453be4a0740"
      },
      "execution_count": null,
      "outputs": [
        {
          "output_type": "stream",
          "name": "stdout",
          "text": [
            "Informe a distância em metros: 5\n",
            "500.0\n"
          ]
        }
      ]
    },
    {
      "cell_type": "code",
      "source": [
        "#6. Faça um CÓDIGO que peça o raio de um círculo, calcule e mostre sua área.\n",
        "\n",
        "raio = float(input(\"Escreva o raio do círculo: \"))\n",
        "pi = 3.14\n",
        "\n",
        "area = pi*raio**2\n",
        "\n",
        "print(area)\n",
        "\n"
      ],
      "metadata": {
        "colab": {
          "base_uri": "https://localhost:8080/"
        },
        "id": "H_V-J0MJ1BpY",
        "outputId": "08ab5a39-45b8-4f06-e602-46b4e37dbc1e"
      },
      "execution_count": null,
      "outputs": [
        {
          "output_type": "stream",
          "name": "stdout",
          "text": [
            "Escreva o raio do círculo: 5\n",
            "78.5\n"
          ]
        }
      ]
    },
    {
      "cell_type": "code",
      "source": [
        "#7 Faça um CÓDIGO que calcule a área de um quadrado, em seguida mostre o dobro desta área para o usuário.\n",
        "\n",
        "lado = float(input(\"Escreva o tamanho do lado do quadrado: \"))\n",
        "\n",
        "area = lado**2\n",
        "\n",
        "area2 = area*2\n",
        "\n",
        "print(area2)\n",
        "\n"
      ],
      "metadata": {
        "colab": {
          "base_uri": "https://localhost:8080/"
        },
        "id": "6voJAmTS15o7",
        "outputId": "d3a227e1-c8ac-497c-a4db-53d53ece8946"
      },
      "execution_count": null,
      "outputs": [
        {
          "output_type": "stream",
          "name": "stdout",
          "text": [
            "Escreva o tamanho do lado do quadrado: 2\n",
            "8.0\n"
          ]
        }
      ]
    },
    {
      "cell_type": "code",
      "source": [
        "#8. Faça um CÓDIGO que pergunte quanto você ganha por hora e o número de horas trabalhadas no mês. Calcule e mostre o total do seu salário no referido mês.\n",
        "\n",
        "real_hora = float(input(\"Quanto você ganha por hora? \"))\n",
        "hora_mes = float(input(\"Quantas horas você trabalha por mês? \"))\n",
        "\n",
        "salario = real_hora * hora_mes\n",
        "\n",
        "print(\"Seu salário é de: \", salario)\n",
        "\n"
      ],
      "metadata": {
        "colab": {
          "base_uri": "https://localhost:8080/"
        },
        "id": "z9Z6LuQiJipc",
        "outputId": "3bd54e6c-1cab-4c8b-d0e0-6ee04a4ec138"
      },
      "execution_count": null,
      "outputs": [
        {
          "output_type": "stream",
          "name": "stdout",
          "text": [
            "Quanto você ganha por hora? 1\n",
            "Quantas horas você trabalha por mês? 10\n",
            "Seu salário é de:  10.0\n"
          ]
        }
      ]
    },
    {
      "cell_type": "code",
      "source": [
        "#9. Faça um CÓDIGO que peça um valor e mostre na tela se o valor é positivo ou negativo.\n",
        "\n",
        "num = float(input(\"Informe um número: \"))\n",
        "\n",
        "if num > 0:\n",
        "  print(\"número é positivo.\")\n",
        "\n",
        "elif num == 0:\n",
        "  print(\"número é nulo.\")\n",
        "\n",
        "else:\n",
        "  print(\"Número é negativo.\")"
      ],
      "metadata": {
        "id": "eGaG1oP-KwcK",
        "outputId": "5c28b860-aab2-43b2-dc3e-d417ec428172",
        "colab": {
          "base_uri": "https://localhost:8080/"
        }
      },
      "execution_count": null,
      "outputs": [
        {
          "output_type": "stream",
          "name": "stdout",
          "text": [
            "Informe um número: 5\n",
            "número é positivo.\n"
          ]
        }
      ]
    },
    {
      "cell_type": "code",
      "source": [
        "#10. Faça um CÓDIGO que verifique se uma letra digitada é \"F\" ou \"M\". Conforme a letra escrever: F - Feminino, M - Masculino, Sexo Inválido.\n",
        "\n",
        "letra = input(\"Informe seu sexo: F ou M\\n\")\n",
        "\n",
        "if letra == \"f\":\n",
        "  print(\"Você é do sexo Feminino.\")\n",
        "\n",
        "elif letra == \"m\":\n",
        "  print(\"Você é do sexo Masculino.\")\n",
        "\n",
        "else:\n",
        "  print(\"Sexo Inválido.\")"
      ],
      "metadata": {
        "id": "Qn1hfxCacyzV",
        "outputId": "9eec184f-3277-4034-f9a8-2a7b340bad53",
        "colab": {
          "base_uri": "https://localhost:8080/"
        }
      },
      "execution_count": null,
      "outputs": [
        {
          "output_type": "stream",
          "name": "stdout",
          "text": [
            "Informe seu sexo: F ou M\n",
            "m\n",
            "Você é do sexo Masculino.\n"
          ]
        }
      ]
    }
  ]
}