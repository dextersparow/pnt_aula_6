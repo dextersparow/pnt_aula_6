mensagem = "Olá ETE PORTO DIGITAL!"
print(mensagem)

numero = input("Informe um número: ")
print("O número informado foi", numero)

numero1 = float(input("Digite o primeiro número: "))
numero2 = float(input("Digite o segundo número: "))

soma = numero1 + numero2

print("A soma dos dois números é:", soma)

nota1 = float(input("Digite a primeira nota: "))
nota2 = float(input("Digite a segunda nota: "))
nota3 = float(input("Digite a terceira nota: "))
nota4 = float(input("Digite a quarta nota: "))

media = (nota1 + nota2 + nota3 + nota4) / 4

print("A média final é:", media)

metros = float(input("Digite o valor em metros: "))

centimetros = metros * 100

print("O valor em centímetros é:", centimetros)


import math

raio = float(input("Digite o raio do círculo: "))

area = math.pi * raio**2

print("A área do círculo é:", area)

lado = float(input("Digite o valor do lado do quadrado: "))

area = lado ** 2
dobro_area = 2 * area

print("A área do quadrado é:", area)
print("O dobro da área é:", dobro_area)

valor_por_hora = float(input("Digite o valor do seu salário por hora: "))
horas_trabalhadas = float(input("Digite o número de horas trabalhadas no mês: "))

salario_mensal = valor_por_hora * horas_trabalhadas

print("Seu salário mensal é:", salario_mensal)

valor = float(input("Digite um valor: "))

if valor > 0:
    print("O valor é positivo.")
elif valor < 0:
    print("O valor é negativo.")
else:
    print("O valor é zero.")


letra = input("Digite uma letra: ")

if letra == "F" or letra == "f":
    print("F - Feminino")
elif letra == "M" or letra == "m":
    print("M - Masculino")
else:
    print("Sexo Inválido")
